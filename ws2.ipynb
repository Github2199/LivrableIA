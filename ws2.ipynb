{
 "cells": [
  {
   "cell_type": "code",
   "execution_count": 23,
   "metadata": {},
   "outputs": [],
   "source": [
    "#workshop 2 le 281123\n",
    "#step1\n",
    "client1={\"Nom\":\"\",\"Prenom\":\"\",\"Sexe\":\"\",\"Solde\":\"\"}"
   ]
  },
  {
   "cell_type": "code",
   "execution_count": 24,
   "metadata": {},
   "outputs": [
    {
     "name": "stdout",
     "output_type": "stream",
     "text": [
      "le client1:\n",
      "{'Nom': 'AGUR', 'Prenom': 'Patrick', 'Sexe': 'M', 'Solde': '3000'}\n"
     ]
    }
   ],
   "source": [
    "#workshop 2 le 281123\n",
    "#step2\n",
    "client=[{\"Nom\":\"\",\"Prenom\":\"\",\"Sexe\":\"\",\"Solde\":\"\"}] #cree le client[0] qui sera le client1\n",
    "for i in client[0]: #le client[0] (indexé 0) est le client 1\n",
    "    valeur_client=input(\"Quel est votre \"+i+\"?\")\n",
    "    client[0][i]=valeur_client\n",
    "print (\"le client1:\")\n",
    "print (client[0])\n"
   ]
  },
  {
   "cell_type": "code",
   "execution_count": 25,
   "metadata": {},
   "outputs": [],
   "source": [
    "#workshop 2 le 281123\n",
    "#step3\n",
    "#creer liste des 12 dictionnaire vides (liste de dictionnaire)\n",
    "client=[{\"Nom\":\"\",\"Prenom\":\"\",\"Sexe\":\"\",\"Solde\":\"\"},\n",
    "        {\"Nom\":\"\",\"Prenom\":\"\",\"Sexe\":\"\",\"Solde\":\"\"},\n",
    "        {\"Nom\":\"\",\"Prenom\":\"\",\"Sexe\":\"\",\"Solde\":\"\"},\n",
    "        {\"Nom\":\"\",\"Prenom\":\"\",\"Sexe\":\"\",\"Solde\":\"\"},\n",
    "        {\"Nom\":\"\",\"Prenom\":\"\",\"Sexe\":\"\",\"Solde\":\"\"},\n",
    "        {\"Nom\":\"\",\"Prenom\":\"\",\"Sexe\":\"\",\"Solde\":\"\"},\n",
    "        {\"Nom\":\"\",\"Prenom\":\"\",\"Sexe\":\"\",\"Solde\":\"\"},\n",
    "        {\"Nom\":\"\",\"Prenom\":\"\",\"Sexe\":\"\",\"Solde\":\"\"},\n",
    "        {\"Nom\":\"\",\"Prenom\":\"\",\"Sexe\":\"\",\"Solde\":\"\"},\n",
    "        {\"Nom\":\"\",\"Prenom\":\"\",\"Sexe\":\"\",\"Solde\":\"\"},\n",
    "        {\"Nom\":\"\",\"Prenom\":\"\",\"Sexe\":\"\",\"Solde\":\"\"},\n",
    "        {\"Nom\":\"\",\"Prenom\":\"\",\"Sexe\":\"\",\"Solde\":\"\"}]\n"
   ]
  },
  {
   "cell_type": "code",
   "execution_count": null,
   "metadata": {},
   "outputs": [],
   "source": [
    "#workshop 2 le 281123\n",
    "#step4\n",
    "#Créer une boucle pour récupérer les données de tous les clients. Exécuter la pour entrer leurs données directement en console.\n",
    "for j in range(1,13): #for j in range(1,12): #on commence par l'index 1 car on a deja alimenté le client[0] => le client[1] sera le client 2...\n",
    "        for i in client[j]:\n",
    "                valeur_client=input(\"Quel est votre \"+i+\"?\")\n",
    "                client[j][i]=valeur_client\n",
    "        print (\"le client\",j+1) #j+1 pour l'affichage le client 1, client 2...\n",
    "        print (client[j])"
   ]
  },
  {
   "cell_type": "code",
   "execution_count": 36,
   "metadata": {},
   "outputs": [
    {
     "name": "stdout",
     "output_type": "stream",
     "text": [
      "client 1 :\n",
      "{'Nom': 'AGUR', 'Prenom': 'Patrick', 'Sexe': 'M', 'Solde': '3000'}\n",
      "client 2 :\n",
      "{'Nom': 'JANAZ', 'Prenom': 'Bartosz', 'Sexe': 'M', 'Solde': '2000'}\n",
      "client 3 :\n",
      "{'Nom': 'BAYARCHULUUN', 'Prenom': 'MUNKHERDENE', 'Sexe': 'M', 'Solde': '1500'}\n",
      "client 4 :\n",
      "{'Nom': 'BONNIN', 'Prenom': 'PHILIPPE', 'Sexe': 'M', 'Solde': '4500'}\n",
      "client 5 :\n",
      "{'Nom': 'CARREY', 'Prenom': 'RAPHAEL', 'Sexe': 'M', 'Solde': '5000'}\n",
      "client 6 :\n",
      "{'Nom': 'CHELEDNIK', 'Prenom': 'ALEXANDRE', 'Sexe': 'M', 'Solde': '3500'}\n",
      "client 7 :\n",
      "{'Nom': 'CHIKRI', 'Prenom': 'HASSAN', 'Sexe': 'M', 'Solde': '2500'}\n",
      "client 8 :\n",
      "{'Nom': 'DESSOLIN', 'Prenom': 'THIBAUT', 'Sexe': 'M', 'Solde': '4000'}\n",
      "client 9 :\n",
      "{'Nom': 'LAKHDAR EZZINE ', 'Prenom': 'HADJER', 'Sexe': 'F', 'Solde': '1000'}\n",
      "client 10 :\n",
      "{'Nom': 'MEUNIER', 'Prenom': 'ALEXIS', 'Sexe': 'M', 'Solde': '3000'}\n",
      "client 11 :\n",
      "{'Nom': 'MOHAMED', 'Prenom': 'AHMED', 'Sexe': 'M', 'Solde': '2500'}\n",
      "client 12 :\n",
      "{'Nom': 'SADOUN', 'Prenom': 'SALAH', 'Sexe': 'M', 'Solde': '6000'}\n",
      "client 13 :\n",
      "{'Nom': 'THEUREAU', 'Prenom': 'PAUL', 'Sexe': 'M', 'Solde': '4500'}\n"
     ]
    }
   ],
   "source": [
    "client=[{'Nom': 'AGUR', 'Prenom': 'Patrick', 'Sexe': 'M', 'Solde': '3000'},\n",
    "{'Nom': 'JANAZ', 'Prenom': 'Bartosz', 'Sexe': 'M', 'Solde': '2000'},\n",
    "{'Nom': 'BAYARCHULUUN', 'Prenom': 'MUNKHERDENE', 'Sexe': 'M', 'Solde': '1500'},\n",
    "{'Nom': 'BONNIN', 'Prenom': 'PHILIPPE', 'Sexe': 'M', 'Solde': '4500'},\n",
    "{'Nom': 'CARREY', 'Prenom': 'RAPHAEL', 'Sexe': 'M', 'Solde': '5000'},\n",
    "{'Nom': 'CHELEDNIK', 'Prenom': 'ALEXANDRE', 'Sexe': 'M', 'Solde': '3500'},\n",
    "{'Nom': 'CHIKRI', 'Prenom': 'HASSAN', 'Sexe': 'M', 'Solde': '2500'},\n",
    "{'Nom': 'DESSOLIN', 'Prenom': 'THIBAUT', 'Sexe': 'M', 'Solde': '4000'},\n",
    "{'Nom': 'LAKHDAR EZZINE ', 'Prenom': 'HADJER', 'Sexe': 'F', 'Solde': '1000'},\n",
    "{'Nom': 'MEUNIER', 'Prenom': 'ALEXIS', 'Sexe': 'M', 'Solde': '3000'},\n",
    "{'Nom': 'MOHAMED', 'Prenom': 'AHMED', 'Sexe': 'M', 'Solde': '2500'},\n",
    "{'Nom': 'SADOUN', 'Prenom': 'SALAH', 'Sexe': 'M', 'Solde': '6000'},\n",
    "{'Nom': 'THEUREAU', 'Prenom': 'PAUL', 'Sexe': 'M', 'Solde': '4500'}]\n",
    "for i in range (0,13):\n",
    "    print(\"client\",i+1,\":\")\n",
    "    print(client[i])"
   ]
  },
  {
   "cell_type": "code",
   "execution_count": 38,
   "metadata": {},
   "outputs": [
    {
     "data": {
      "text/plain": [
       "{'Nom': 'BONNIN', 'Prenom': 'PHILIPPE', 'Sexe': 'M', 'Solde': 4000}"
      ]
     },
     "execution_count": 38,
     "metadata": {},
     "output_type": "execute_result"
    }
   ],
   "source": [
    "#workshop 2 le 281123\n",
    "#step5\n",
    "#Ecrire un bloc pour effectuer un retrait de 500 euros pour client4\n",
    "#le client 4 est le client[3] (client indexé liste)\n",
    "client[3][\"Solde\"]=int(client[3][\"Solde\"])-500\n",
    "print(\"le client 4:\")\n",
    "print (client[3])"
   ]
  },
  {
   "cell_type": "code",
   "execution_count": 54,
   "metadata": {},
   "outputs": [
    {
     "name": "stdout",
     "output_type": "stream",
     "text": [
      "le solde total est de: 42500 €\n"
     ]
    }
   ],
   "source": [
    "#workshop 2 le 281123\n",
    "#step6\n",
    "#Ecrire un bloc pour afficher le Solde total\n",
    "somme=0\n",
    "for i in range(0,13):\n",
    "    client[i][\"Solde\"]=int(client[i][\"Solde\"])\n",
    "    somme=client[i][\"Solde\"]+somme\n",
    "#affiche le solde total\n",
    "print(\"le solde total est de:\", somme,\"€\")\n",
    "    "
   ]
  },
  {
   "cell_type": "code",
   "execution_count": 55,
   "metadata": {},
   "outputs": [
    {
     "name": "stdout",
     "output_type": "stream",
     "text": [
      "Le nombre de femme est: 1\n",
      "le nombre d'homme est: 12\n"
     ]
    }
   ],
   "source": [
    "#workshop 2 le 281123\n",
    "#step7\n",
    "#Écrivez un bloc pour compter le nombre de clients féminins et masculins\n",
    "nb_femme=0\n",
    "nb_homme=0\n",
    "for i in range(0,13):\n",
    "    if client[i][\"Sexe\"]==\"F\":\n",
    "        nb_femme=nb_femme+1\n",
    "    if client[i][\"Sexe\"]==\"M\":\n",
    "        nb_homme=nb_homme+1\n",
    "print(\"Le nombre de femme est:\",nb_femme)\n",
    "print(\"le nombre d'homme est:\",nb_homme)\n",
    "    \n"
   ]
  },
  {
   "cell_type": "code",
   "execution_count": 56,
   "metadata": {},
   "outputs": [
    {
     "name": "stdout",
     "output_type": "stream",
     "text": [
      "Vous allez ajouter un client:\n"
     ]
    }
   ],
   "source": [
    "#workshop 2 le 281123\n",
    "#step8\n",
    "#Un nouveau client qui arrive KURDY Bassam avec un solde de 2000 euros, il faut l’ajouter dans la base de données avec ou sans méthode\n",
    "print(\"Vous allez ajouter un client:\")\n",
    "nom=input(\"Nom:\")\n",
    "prenom=input(\"Prenom:\")\n",
    "sexe=input(\"Sexe:\")\n",
    "solde=input(\"Solde:\")\n",
    "client.append({\"Nom\":nom,\"Prenom\":prenom,\"Sexe\":sexe,\"Solde\":solde})\n",
    "#on peut utiliser la concatenation au lieu d'append\n"
   ]
  },
  {
   "cell_type": "code",
   "execution_count": 64,
   "metadata": {},
   "outputs": [
    {
     "name": "stdout",
     "output_type": "stream",
     "text": [
      "client 1 :\n",
      "{'Nom': 'AGUR', 'Prenom': 'Patrick', 'Sexe': 'M', 'Solde': 3000}\n",
      "client 2 :\n",
      "{'Nom': 'JANAZ', 'Prenom': 'Bartosz', 'Sexe': 'M', 'Solde': 2000}\n",
      "client 3 :\n",
      "{'Nom': 'BAYARCHULUUN', 'Prenom': 'MUNKHERDENE', 'Sexe': 'M', 'Solde': 1500}\n",
      "client 4 :\n",
      "{'Nom': 'BONNIN', 'Prenom': 'PHILIPPE', 'Sexe': 'M', 'Solde': 4000}\n",
      "client 5 :\n",
      "{'Nom': 'CARREY', 'Prenom': 'RAPHAEL', 'Sexe': 'M', 'Solde': 5000}\n",
      "client 6 :\n",
      "{'Nom': 'CHELEDNIK', 'Prenom': 'ALEXANDRE', 'Sexe': 'M', 'Solde': 3500}\n",
      "client 7 :\n",
      "{'Nom': 'CHIKRI', 'Prenom': 'HASSAN', 'Sexe': 'M', 'Solde': 2500}\n",
      "client 8 :\n",
      "{'Nom': 'DESSOLIN', 'Prenom': 'THIBAUT', 'Sexe': 'M', 'Solde': 4000}\n",
      "client 9 :\n",
      "{'Nom': 'LAKHDAR EZZINE ', 'Prenom': 'HADJER', 'Sexe': 'F', 'Solde': 1000}\n",
      "client 10 :\n",
      "{'Nom': 'MEUNIER', 'Prenom': 'ALEXIS', 'Sexe': 'M', 'Solde': 3000}\n",
      "client 11 :\n",
      "{'Nom': 'MOHAMED', 'Prenom': 'AHMED', 'Sexe': 'M', 'Solde': 2500}\n",
      "client 12 :\n",
      "{'Nom': 'SADOUN', 'Prenom': 'SALAH', 'Sexe': 'M', 'Solde': 6000}\n",
      "client 13 :\n",
      "{'Nom': 'THEUREAU', 'Prenom': 'PAUL', 'Sexe': 'M', 'Solde': 4500}\n",
      "client 14 :\n",
      "[{'Nom': 'KURDY', 'Prenom': 'BASSAM', 'Sexe': 'M', 'Solde': '2000'}]\n"
     ]
    },
    {
     "data": {
      "text/plain": [
       "[{'Nom': 'AGUR', 'Prenom': 'Patrick', 'Sexe': 'M', 'Solde': 3000},\n",
       " {'Nom': 'JANAZ', 'Prenom': 'Bartosz', 'Sexe': 'M', 'Solde': 2000},\n",
       " {'Nom': 'BAYARCHULUUN', 'Prenom': 'MUNKHERDENE', 'Sexe': 'M', 'Solde': 1500},\n",
       " {'Nom': 'BONNIN', 'Prenom': 'PHILIPPE', 'Sexe': 'M', 'Solde': 4000},\n",
       " {'Nom': 'CARREY', 'Prenom': 'RAPHAEL', 'Sexe': 'M', 'Solde': 5000},\n",
       " {'Nom': 'CHELEDNIK', 'Prenom': 'ALEXANDRE', 'Sexe': 'M', 'Solde': 3500},\n",
       " {'Nom': 'CHIKRI', 'Prenom': 'HASSAN', 'Sexe': 'M', 'Solde': 2500},\n",
       " {'Nom': 'DESSOLIN', 'Prenom': 'THIBAUT', 'Sexe': 'M', 'Solde': 4000},\n",
       " {'Nom': 'LAKHDAR EZZINE ', 'Prenom': 'HADJER', 'Sexe': 'F', 'Solde': 1000},\n",
       " {'Nom': 'MEUNIER', 'Prenom': 'ALEXIS', 'Sexe': 'M', 'Solde': 3000},\n",
       " {'Nom': 'MOHAMED', 'Prenom': 'AHMED', 'Sexe': 'M', 'Solde': 2500},\n",
       " {'Nom': 'SADOUN', 'Prenom': 'SALAH', 'Sexe': 'M', 'Solde': 6000},\n",
       " {'Nom': 'THEUREAU', 'Prenom': 'PAUL', 'Sexe': 'M', 'Solde': 4500},\n",
       " [{'Nom': 'KURDY', 'Prenom': 'BASSAM', 'Sexe': 'M', 'Solde': '2000'}]]"
      ]
     },
     "execution_count": 64,
     "metadata": {},
     "output_type": "execute_result"
    }
   ],
   "source": [
    "for i in range (0,len(client)):\n",
    "    print(\"client\",i+1,\":\")\n",
    "    print(client[i])\n",
    "client #autre maniere d'affciher tous les clients"
   ]
  },
  {
   "cell_type": "code",
   "execution_count": null,
   "metadata": {},
   "outputs": [],
   "source": [
    "#ne pas oublier la clef c'est l'attribut\n",
    "#une table c'est une liste de dictionnaire\n",
    "#voir keys value essayer d'utiliser cette methode dans etape4\n",
    "%whos\n",
    "%history"
   ]
  },
  {
   "cell_type": "code",
   "execution_count": 93,
   "metadata": {},
   "outputs": [
    {
     "name": "stdout",
     "output_type": "stream",
     "text": [
      "6\n",
      "5\n",
      "4\n",
      "3\n",
      "2\n",
      "1\n",
      "le factorielle est: 720\n"
     ]
    }
   ],
   "source": [
    "#factorielle 6! = 6 * 5 * 4 * 3 * 2 *1\n",
    "#la factorielle d'un nombre n est définie comme n fois la factorielle du nombre n-1, et la factorielle de 1 est 1.\n",
    "def fact(n):\n",
    "    n=int(n)\n",
    "    print (n)\n",
    "    if n==1:\n",
    "        res=1\n",
    "    else:\n",
    "        res=int(n*fact(n-1))\n",
    "    return res\n",
    "n=int(input(\"Saisir la variable de factorielle:\"))\n",
    "\n",
    "print (\"le factorielle est:\",fact(n))\n",
    "\n",
    "\n",
    "\n"
   ]
  }
 ],
 "metadata": {
  "kernelspec": {
   "display_name": "base",
   "language": "python",
   "name": "python3"
  },
  "language_info": {
   "codemirror_mode": {
    "name": "ipython",
    "version": 3
   },
   "file_extension": ".py",
   "mimetype": "text/x-python",
   "name": "python",
   "nbconvert_exporter": "python",
   "pygments_lexer": "ipython3",
   "version": "3.11.5"
  }
 },
 "nbformat": 4,
 "nbformat_minor": 2
}
