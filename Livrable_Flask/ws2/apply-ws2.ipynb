{
 "cells": [
  {
   "cell_type": "code",
   "execution_count": 29,
   "metadata": {},
   "outputs": [
    {
     "name": "stdout",
     "output_type": "stream",
     "text": [
      " * Serving Flask app '__main__'\n",
      " * Debug mode: off\n"
     ]
    },
    {
     "name": "stderr",
     "output_type": "stream",
     "text": [
      "WARNING: This is a development server. Do not use it in a production deployment. Use a production WSGI server instead.\n",
      " * Running on http://127.0.0.1:5000\n",
      "Press CTRL+C to quit\n"
     ]
    }
   ],
   "source": [
    "import os\n",
    "import pandas as pd \n",
    "import numpy as np \n",
    "import flask\n",
    "import pickle\n",
    "from flask import Flask, render_template, request\n",
    "\n",
    "train=pd.read_csv('iris.csv')\n",
    "train.head()\n",
    "\n",
    "# Supposons que vous ayez une liste de noms associés à chaque classe prédite\n",
    "class_names = {\n",
    "    0: \"Setosa\",\n",
    "    1: \"Versicolor\",\n",
    "    2: \"Virginica\"\n",
    "}\n",
    "\n",
    "app = Flask(__name__)\n",
    "\n",
    "@app.route('/')\n",
    "def index():\n",
    "    return render_template('index.html')\n",
    "\n",
    "def value_predictor(to_predict_list):\n",
    "    to_predict = np.array(to_predict_list).reshape(1, 4)\n",
    "    loaded_model = pickle.load(open(\"model.pkl\", \"rb\"))\n",
    "    result = loaded_model.predict(to_predict)\n",
    "    #soluce pour afficher le nom et pas la valeur\n",
    "    class_name = class_names[result[0]]  # Obtenir le nom associé à la classe prédite\n",
    "    return class_name\n",
    "    #return result[0]\n",
    "\n",
    "@app.route('/predict', methods=['POST'])\n",
    "def result():\n",
    "    if request.method == 'POST':\n",
    "        to_predict_list = request.form.to_dict()\n",
    "        to_predict_list = list(to_predict_list.values())\n",
    "        to_predict_list = list(map(float, to_predict_list))\n",
    "        \n",
    "        #result = value_predictor(to_predict_list)\n",
    "        #prediction = str(result)\n",
    "        #soluce pour afficher le nom et pas la valeur\n",
    "        class_name = value_predictor(to_predict_list)\n",
    "        return render_template(\"predict.html\", class_name=class_name)\n",
    "        \n",
    "\n",
    "if __name__ == \"__main__\":\n",
    "    app.run()\n"
   ]
  },
  {
   "cell_type": "code",
   "execution_count": 32,
   "metadata": {},
   "outputs": [
    {
     "name": "stdout",
     "output_type": "stream",
     "text": [
      " * Serving Flask app '__main__'\n",
      " * Debug mode: off\n"
     ]
    },
    {
     "name": "stderr",
     "output_type": "stream",
     "text": [
      "WARNING: This is a development server. Do not use it in a production deployment. Use a production WSGI server instead.\n",
      " * Running on http://127.0.0.1:5000\n",
      "Press CTRL+C to quit\n",
      "127.0.0.1 - - [09/Feb/2024 15:46:23] \"GET / HTTP/1.1\" 200 -\n",
      "127.0.0.1 - - [09/Feb/2024 15:46:23] \"GET /static/main.css HTTP/1.1\" 304 -\n",
      "127.0.0.1 - - [09/Feb/2024 15:46:28] \"POST /predict HTTP/1.1\" 200 -\n",
      "127.0.0.1 - - [09/Feb/2024 15:46:28] \"GET /static/main.css HTTP/1.1\" 304 -\n"
     ]
    }
   ],
   "source": [
    "import os\n",
    "import numpy as np\n",
    "import pickle\n",
    "from flask import Flask, render_template, request\n",
    "\n",
    "\n",
    "\n",
    "app = Flask(__name__)\n",
    "\n",
    "# Supposons que vous ayez une liste de noms associés à chaque classe prédite\n",
    "class_names = {\n",
    "    0: \"Setosa\",\n",
    "    1: \"Versicolor\",\n",
    "    2: \"Virginica\"\n",
    "}\n",
    "\n",
    "@app.route('/')\n",
    "def index():\n",
    "    return render_template('index.html')\n",
    "\n",
    "def value_predictor(to_predict_list):\n",
    "    to_predict = np.array(to_predict_list).reshape(1, 4)\n",
    "    loaded_model = pickle.load(open(\"model.pkl\", \"rb\"))\n",
    "    result = loaded_model.predict(to_predict)\n",
    "    class_name = class_names[result[0]]  # Obtenir le nom associé à la classe prédite\n",
    "    #class_name = result[0]\n",
    "    return class_name\n",
    "\n",
    "@app.route('/predict', methods=['POST'])\n",
    "def result():\n",
    "    if request.method == 'POST':\n",
    "        to_predict_list = request.form.to_dict()\n",
    "        to_predict_list = list(to_predict_list.values())\n",
    "        to_predict_list = list(map(float, to_predict_list))\n",
    "        class_name = value_predictor(to_predict_list)\n",
    "        \n",
    "        return render_template(\"predict.html\", class_name=class_name)\n",
    "\n",
    "if __name__ == \"__main__\":\n",
    "    app.run()\n"
   ]
  }
 ],
 "metadata": {
  "kernelspec": {
   "display_name": "devSalah_Flask",
   "language": "python",
   "name": "python3"
  },
  "language_info": {
   "codemirror_mode": {
    "name": "ipython",
    "version": 3
   },
   "file_extension": ".py",
   "mimetype": "text/x-python",
   "name": "python",
   "nbconvert_exporter": "python",
   "pygments_lexer": "ipython3",
   "version": "3.10.13"
  }
 },
 "nbformat": 4,
 "nbformat_minor": 2
}
