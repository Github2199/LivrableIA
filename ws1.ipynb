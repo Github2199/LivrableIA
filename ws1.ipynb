{
 "cells": [
  {
   "cell_type": "code",
   "execution_count": 2,
   "id": "d979b68b",
   "metadata": {},
   "outputs": [
    {
     "name": "stdout",
     "output_type": "stream",
     "text": [
      "Bienvenue dans le jeu de la dichotomie\n"
     ]
    },
    {
     "data": {
      "text/plain": [
       "0"
      ]
     },
     "execution_count": 2,
     "metadata": {},
     "output_type": "execute_result"
    }
   ],
   "source": [
    "#WorkShop le 241123\n",
    "#jeu de dichotomie\n",
    "#step 1\n",
    "def main():\n",
    "    print(\"Bienvenue dans le jeu de la dichotomie\")\n",
    "    return 0\n",
    "main() #la fonctionne retourne bien un int\n",
    "\n"
   ]
  },
  {
   "cell_type": "code",
   "execution_count": 3,
   "id": "544c4489",
   "metadata": {},
   "outputs": [
    {
     "name": "stdout",
     "output_type": "stream",
     "text": [
      "Bienvenue dans le jeu de la dichotomie\n"
     ]
    },
    {
     "data": {
      "text/plain": [
       "0"
      ]
     },
     "execution_count": 3,
     "metadata": {},
     "output_type": "execute_result"
    }
   ],
   "source": [
    "#WorkShop le 241123\n",
    "#jeu de dichotomie\n",
    "#step 2\n",
    "def main():\n",
    "    print(\"Bienvenue dans le jeu de la dichotomie\")\n",
    "    userName=input (\"Saisir votre nom: \") #recupere le nom du joueur saisi au clavier\n",
    "    return 0\n",
    "main() #main() retourne bien 0=> OK  \n",
    "    \n",
    "    "
   ]
  },
  {
   "cell_type": "code",
   "execution_count": 14,
   "id": "8a23dbda",
   "metadata": {},
   "outputs": [
    {
     "name": "stdout",
     "output_type": "stream",
     "text": [
      "Bienvenue dans le jeu de la dichotomie\n",
      "Saisir votre nom: Salah\n",
      "Je pense à un nombre entre 0 et 100 compris\n",
      "Tu dois deviner quel est ce nombre\n"
     ]
    },
    {
     "data": {
      "text/plain": [
       "int"
      ]
     },
     "execution_count": 14,
     "metadata": {},
     "output_type": "execute_result"
    }
   ],
   "source": [
    "#WorkShop le 241123\n",
    "#jeu de dichotomie\n",
    "#step 3\n",
    "def main():\n",
    "    #debut initialisation des variables\n",
    "    minValue=0\n",
    "    maxValue=100\n",
    "    #fin initialisation des variables\n",
    "    print(\"Bienvenue dans le jeu de la dichotomie\")\n",
    "    userName=input (\"Saisir votre nom: \") #recupere le nom du joueur saisi au clavier\n",
    "    print (userName,\" pense à un nombre entre 0 et 100 compris\")\n",
    "    print(\"Je dois deviner quel est ce nombre par des questions\")\n",
    "    return 0\n",
    "\n",
    "main() #main() retourne bien 0=> OK  "
   ]
  },
  {
   "cell_type": "code",
   "execution_count": 1,
   "id": "419f3087",
   "metadata": {},
   "outputs": [
    {
     "name": "stdout",
     "output_type": "stream",
     "text": [
      "Bienvenue dans le jeu de la dichotomie\n",
      "Salah  pense à un nombre entre 0 et 100 compris\n",
      "Je dois deviner quel est ce nombre par des questions\n",
      "est ce que votre nombre est plus grand, plus petit ou egal à  50 ?[+/-/=]\n",
      "est ce que votre nombre est plus grand, plus petit ou egal à  75 ?[+/-/=]\n",
      "est ce que votre nombre est plus grand, plus petit ou egal à  87 ?[+/-/=]\n",
      "est ce que votre nombre est plus grand, plus petit ou egal à  94 ?[+/-/=]\n",
      "est ce que votre nombre est plus grand, plus petit ou egal à  97 ?[+/-/=]\n",
      "est ce que votre nombre est plus grand, plus petit ou egal à  98 ?[+/-/=]\n",
      "est ce que votre nombre est plus grand, plus petit ou egal à  99 ?[+/-/=]\n",
      "est ce que votre nombre est plus grand, plus petit ou egal à  100 ?[+/-/=]\n"
     ]
    },
    {
     "data": {
      "text/plain": [
       "0"
      ]
     },
     "execution_count": 1,
     "metadata": {},
     "output_type": "execute_result"
    }
   ],
   "source": [
    "#WorkShop le 241123\n",
    "#jeu de dichotomie\n",
    "#step 4\n",
    "def main():\n",
    "    #debut initialisation des variables\n",
    "    minValue=0\n",
    "    maxValue=100\n",
    "    compteur=0\n",
    "    reponse=\"\"\n",
    "    #fin initialisation des variables\n",
    "    print(\"Bienvenue dans le jeu de la dichotomie\")\n",
    "    userName=input (\"Saisir votre nom: \") #recupere le nom du joueur saisi au clavier\n",
    "    print (userName,\"pense à un nombre entre 0 et 100 compris\")\n",
    "    print(\"Je dois deviner quel est ce nombre par des questions\")\n",
    "    while reponse!=\"=\":\n",
    "        #le int() permet de ne pas avoir de decimal sur la division/2\n",
    "        reponse=input(print(\"est ce que votre nombre est plus grand, plus petit ou egal à \", int((maxValue+minValue)/2), \"?[+/-/=]\"))#simplification math minValue+int((maxValue-minValue)/2)=int((maxValue+minValue)/2)\n",
    "        if reponse==\"+\":\n",
    "            minValue=int((maxValue+minValue)/2+0.5)#+0.5 ?=>traite l'arrondi inferieur de la fonction int() int(0.5)=0 et non à 1 sinon s'arrête à 99\n",
    "        if reponse==\"-\":\n",
    "            maxValue=int((maxValue+minValue)/2)\n",
    "        compteur=compteur+1\n",
    "    return 0\n",
    "\n",
    "main() #main() retourne bien 0=> OK  "
   ]
  },
  {
   "cell_type": "code",
   "execution_count": 10,
   "id": "4bde8606",
   "metadata": {},
   "outputs": [
    {
     "name": "stdout",
     "output_type": "stream",
     "text": [
      "Bienvenue dans le jeu de la dichotomie\n",
      "Salah pense à un nombre entre 0 et 100 compris\n",
      "Je dois deviner quel est ce nombre par des questions\n",
      "Est-ce que votre nombre est plus grand, plus petit ou egal à  50 ?[+/-/=]:\n",
      "Est-ce que votre nombre est plus grand, plus petit ou egal à  75 ?[+/-/=]:\n",
      "Est-ce que votre nombre est plus grand, plus petit ou egal à  87 ?[+/-/=]:\n",
      "Est-ce que votre nombre est plus grand, plus petit ou egal à  94 ?[+/-/=]:\n",
      "Est-ce que votre nombre est plus grand, plus petit ou egal à  97 ?[+/-/=]:\n",
      "Est-ce que votre nombre est plus grand, plus petit ou egal à  98 ?[+/-/=]:\n",
      "Est-ce que votre nombre est plus grand, plus petit ou egal à  99 ?[+/-/=]:\n",
      "Est-ce que votre nombre est plus grand, plus petit ou egal à  100 ?[+/-/=]:\n",
      "c'est donc: 100\n",
      "Et je l'ai trouvé en 8 question(s)!!\n",
      "Le jeu est terminé\n"
     ]
    },
    {
     "data": {
      "text/plain": [
       "0"
      ]
     },
     "execution_count": 10,
     "metadata": {},
     "output_type": "execute_result"
    }
   ],
   "source": [
    "#WorkShop le 241123\n",
    "#jeu de dichotomie\n",
    "#step 5\n",
    "def main():\n",
    "    #debut initialisation des variables\n",
    "    minValue=0\n",
    "    maxValue=100\n",
    "    compteur=0\n",
    "    reponse=\"\"\n",
    "    #fin initialisation des variables\n",
    "    print(\"Bienvenue dans le jeu de la dichotomie\")\n",
    "    userName=input (\"Saisir votre nom: \") #recupere le nom du joueur saisi au clavier\n",
    "    print (userName,\"pense à un nombre entre 0 et 100 compris\")\n",
    "    print(\"Je dois deviner quel est ce nombre par des questions\")\n",
    "    while reponse!=\"=\":\n",
    "        #le int() permet de ne pas avoir de decimal sur la division/2\n",
    "        print(\"Est-ce que votre nombre est plus grand, plus petit ou egal à \",int((maxValue+minValue)/2),\"?[+/-/=]:\")#simplification math minValue+int((maxValue-minValue)/2)=int((maxValue+minValue)/2)\n",
    "        reponse=input(\"\")#ne pas mettre un print dans un input car cela declenche un prompt NONE\n",
    "        if reponse==\"+\":\n",
    "            minValue=int((maxValue+minValue)/2+0.5)#+0.5 ?=>traite l'arrondi inferieur de la fonction int() int(0.5)=0 et non à 1 sinon s'arrête à 99\n",
    "        if reponse==\"-\":\n",
    "            maxValue=int((maxValue+minValue)/2)\n",
    "        compteur=compteur+1\n",
    "    print(\"c'est donc:\",int((maxValue+minValue)/2))\n",
    "    print(\"Et je l'ai trouvé en\",compteur,\"question(s)!!\")\n",
    "    print(\"Le jeu est terminé.\")\n",
    "\n",
    "    return 0\n",
    "main() #main() retourne bien 0=> OK  \n"
   ]
  },
  {
   "cell_type": "code",
   "execution_count": 9,
   "id": "cd43b50e",
   "metadata": {},
   "outputs": [
    {
     "name": "stdout",
     "output_type": "stream",
     "text": [
      "Bienvenue dans le jeu de la dichotomie\n",
      "Salah pense à un nombre entre 0 et 200 compris\n",
      "Je dois deviner quel est ce nombre par des questions\n",
      "Est-ce que votre nombre est plus grand, plus petit ou egal à  100 ?[+/-/=]:\n",
      "Est-ce que votre nombre est plus grand, plus petit ou egal à  150 ?[+/-/=]:\n",
      "Est-ce que votre nombre est plus grand, plus petit ou egal à  175 ?[+/-/=]:\n",
      "Est-ce que votre nombre est plus grand, plus petit ou egal à  187 ?[+/-/=]:\n",
      "Est-ce que votre nombre est plus grand, plus petit ou egal à  194 ?[+/-/=]:\n",
      "Est-ce que votre nombre est plus grand, plus petit ou egal à  197 ?[+/-/=]:\n",
      "Est-ce que votre nombre est plus grand, plus petit ou egal à  198 ?[+/-/=]:\n",
      "Est-ce que votre nombre est plus grand, plus petit ou egal à  199 ?[+/-/=]:\n",
      "Est-ce que votre nombre est plus grand, plus petit ou egal à  200 ?[+/-/=]:\n",
      "c'est donc: 200\n",
      "Et je l'ai trouvé en 9 question(s)!!\n",
      "Le jeu est terminé\n"
     ]
    },
    {
     "data": {
      "text/plain": [
       "0"
      ]
     },
     "execution_count": 9,
     "metadata": {},
     "output_type": "execute_result"
    }
   ],
   "source": [
    "#WorkShop le 241123\n",
    "#jeu de dichotomie\n",
    "#step 5 avec interrogation variable min et max Value\n",
    "def main():\n",
    "    #debut initialisation des variables\n",
    "    minValue=int(input(\"Saisir minValue (>=0):\"))\n",
    "    maxValue=int(input(\"Saisir maxValue:\"))\n",
    "    compteur=0\n",
    "    reponse=\"\"\n",
    "    #fin initialisation des variables\n",
    "    print(\"Bienvenue dans le jeu de la dichotomie\")\n",
    "    userName=input (\"Saisir votre nom: \") #recupere le nom du joueur saisi au clavier\n",
    "    print (userName,\"pense à un nombre entre\",minValue,\"et\",maxValue,\"compris\")\n",
    "    print(\"Je dois deviner quel est ce nombre par des questions\")\n",
    "    while reponse!=\"=\":\n",
    "        #le int() permet de ne pas avoir de decimal sur la division/2\n",
    "        print(\"Est-ce que votre nombre est plus grand, plus petit ou egal à \",int((maxValue+minValue)/2),\"?[+/-/=]:\")#simplification math minValue+int((maxValue-minValue)/2)=int((maxValue+minValue)/2)\n",
    "        reponse=input(\"\")#ne pas mettre un print dans un input car cela declenche un prompt NONE\n",
    "        if reponse==\"+\":\n",
    "            minValue=int((maxValue+minValue)/2+0.5)#+0.5 ?=>traite l'arrondi inferieur de la fonction int() int(0.5)=0 et non à 1 sinon s'arrête à 99\n",
    "        if reponse==\"-\":\n",
    "            maxValue=int((maxValue+minValue)/2)\n",
    "        compteur=compteur+1\n",
    "    print(\"c'est donc:\",int((maxValue+minValue)/2))\n",
    "    print(\"Et je l'ai trouvé en\",compteur,\"question(s)!!\")\n",
    "    print(\"Le jeu est terminé.\")\n",
    "\n",
    "    return 0\n",
    "main() #main() retourne bien 0=> OK  "
   ]
  }
 ],
 "metadata": {
  "kernelspec": {
   "display_name": "Python 3 (ipykernel)",
   "language": "python",
   "name": "python3"
  },
  "language_info": {
   "codemirror_mode": {
    "name": "ipython",
    "version": 3
   },
   "file_extension": ".py",
   "mimetype": "text/x-python",
   "name": "python",
   "nbconvert_exporter": "python",
   "pygments_lexer": "ipython3",
   "version": "3.11.5"
  }
 },
 "nbformat": 4,
 "nbformat_minor": 5
}
