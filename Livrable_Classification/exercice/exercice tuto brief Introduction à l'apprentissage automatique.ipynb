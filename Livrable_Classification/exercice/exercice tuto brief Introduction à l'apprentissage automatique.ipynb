{
 "cells": [
  {
   "cell_type": "code",
   "execution_count": 4,
   "metadata": {},
   "outputs": [
    {
     "name": "stdout",
     "output_type": "stream",
     "text": [
      "Collecting graphviz\n",
      "  Downloading graphviz-0.20.1-py3-none-any.whl (47 kB)\n",
      "     ---------------------------------------- 0.0/47.0 kB ? eta -:--:--\n",
      "     ---------------- --------------------- 20.5/47.0 kB 330.3 kB/s eta 0:00:01\n",
      "     -------------------------------------- 47.0/47.0 kB 471.8 kB/s eta 0:00:00\n",
      "Installing collected packages: graphviz\n",
      "Successfully installed graphviz-0.20.1\n",
      "Note: you may need to restart the kernel to use updated packages.\n"
     ]
    }
   ],
   "source": [
    "pip install graphviz"
   ]
  },
  {
   "cell_type": "code",
   "execution_count": 1,
   "metadata": {},
   "outputs": [],
   "source": [
    "import pandas\n",
    "#lire le fichier csv\n",
    "data = pandas.read_csv(\"jouer0.csv\")\n"
   ]
  },
  {
   "cell_type": "code",
   "execution_count": 2,
   "metadata": {},
   "outputs": [
    {
     "data": {
      "text/html": [
       "<div>\n",
       "<style scoped>\n",
       "    .dataframe tbody tr th:only-of-type {\n",
       "        vertical-align: middle;\n",
       "    }\n",
       "\n",
       "    .dataframe tbody tr th {\n",
       "        vertical-align: top;\n",
       "    }\n",
       "\n",
       "    .dataframe thead th {\n",
       "        text-align: right;\n",
       "    }\n",
       "</style>\n",
       "<table border=\"1\" class=\"dataframe\">\n",
       "  <thead>\n",
       "    <tr style=\"text-align: right;\">\n",
       "      <th></th>\n",
       "      <th>temps</th>\n",
       "      <th>temperature</th>\n",
       "      <th>humidite</th>\n",
       "      <th>vent</th>\n",
       "      <th>jouer</th>\n",
       "    </tr>\n",
       "  </thead>\n",
       "  <tbody>\n",
       "    <tr>\n",
       "      <th>0</th>\n",
       "      <td>ensoleile</td>\n",
       "      <td>chaude</td>\n",
       "      <td>haute</td>\n",
       "      <td>non</td>\n",
       "      <td>non</td>\n",
       "    </tr>\n",
       "    <tr>\n",
       "      <th>1</th>\n",
       "      <td>ensoleile</td>\n",
       "      <td>chaude</td>\n",
       "      <td>haute</td>\n",
       "      <td>oui</td>\n",
       "      <td>non</td>\n",
       "    </tr>\n",
       "    <tr>\n",
       "      <th>2</th>\n",
       "      <td>nuageux</td>\n",
       "      <td>chaude</td>\n",
       "      <td>haute</td>\n",
       "      <td>non</td>\n",
       "      <td>oui</td>\n",
       "    </tr>\n",
       "    <tr>\n",
       "      <th>3</th>\n",
       "      <td>pluvieux</td>\n",
       "      <td>douce</td>\n",
       "      <td>haute</td>\n",
       "      <td>non</td>\n",
       "      <td>oui</td>\n",
       "    </tr>\n",
       "    <tr>\n",
       "      <th>4</th>\n",
       "      <td>pluvieux</td>\n",
       "      <td>fraîche</td>\n",
       "      <td>normale</td>\n",
       "      <td>non</td>\n",
       "      <td>oui</td>\n",
       "    </tr>\n",
       "  </tbody>\n",
       "</table>\n",
       "</div>"
      ],
      "text/plain": [
       "       temps temperature humidite vent jouer\n",
       "0  ensoleile      chaude    haute  non   non\n",
       "1  ensoleile      chaude    haute  oui   non\n",
       "2    nuageux      chaude    haute  non   oui\n",
       "3   pluvieux       douce    haute  non   oui\n",
       "4   pluvieux     fraîche  normale  non   oui"
      ]
     },
     "execution_count": 2,
     "metadata": {},
     "output_type": "execute_result"
    }
   ],
   "source": [
    "data.head()"
   ]
  },
  {
   "cell_type": "code",
   "execution_count": 3,
   "metadata": {},
   "outputs": [],
   "source": [
    "# séparer les données en: entrées et sorties\n",
    "X = data.iloc[:,:-1] #les caractéristiques\n",
    "y = data.iloc[:,-1]  #les résulats (classes)"
   ]
  },
  {
   "cell_type": "code",
   "execution_count": 9,
   "metadata": {},
   "outputs": [
    {
     "name": "stdout",
     "output_type": "stream",
     "text": [
      "Collecting decision-tree-id3\n",
      "  Downloading decision-tree-id3-0.1.2.tar.gz (12 kB)\n",
      "  Preparing metadata (setup.py): started\n",
      "  Preparing metadata (setup.py): finished with status 'done'\n",
      "Collecting nose>=1.1.2 (from decision-tree-id3)\n",
      "  Downloading nose-1.3.7-py3-none-any.whl (154 kB)\n",
      "     ---------------------------------------- 0.0/154.7 kB ? eta -:--:--\n",
      "     ------- ----------------------------- 30.7/154.7 kB 660.6 kB/s eta 0:00:01\n",
      "     -------------- ---------------------- 61.4/154.7 kB 825.8 kB/s eta 0:00:01\n",
      "     ----------------------------------- -- 143.4/154.7 kB 1.1 MB/s eta 0:00:01\n",
      "     -------------------------------------- 154.7/154.7 kB 1.0 MB/s eta 0:00:00\n",
      "Requirement already satisfied: scikit-learn>=0.17 in c:\\users\\utilisateur2\\anaconda3\\envs\\devsalah_3classification\\lib\\site-packages (from decision-tree-id3) (1.4.0)\n",
      "Requirement already satisfied: numpy>=1.6.1 in c:\\users\\utilisateur2\\anaconda3\\envs\\devsalah_3classification\\lib\\site-packages (from decision-tree-id3) (1.26.3)\n",
      "Requirement already satisfied: scipy>=1.6.0 in c:\\users\\utilisateur2\\anaconda3\\envs\\devsalah_3classification\\lib\\site-packages (from scikit-learn>=0.17->decision-tree-id3) (1.12.0)\n",
      "Requirement already satisfied: joblib>=1.2.0 in c:\\users\\utilisateur2\\anaconda3\\envs\\devsalah_3classification\\lib\\site-packages (from scikit-learn>=0.17->decision-tree-id3) (1.3.2)\n",
      "Requirement already satisfied: threadpoolctl>=2.0.0 in c:\\users\\utilisateur2\\anaconda3\\envs\\devsalah_3classification\\lib\\site-packages (from scikit-learn>=0.17->decision-tree-id3) (3.2.0)\n",
      "Building wheels for collected packages: decision-tree-id3\n",
      "  Building wheel for decision-tree-id3 (setup.py): started\n",
      "  Building wheel for decision-tree-id3 (setup.py): finished with status 'done'\n",
      "  Created wheel for decision-tree-id3: filename=decision_tree_id3-0.1.2-py3-none-any.whl size=15948 sha256=a86bf9203d2ac9e69778023ee5306e15aad7109c2d5302719e5030b8aceac013\n",
      "  Stored in directory: c:\\users\\utilisateur2\\appdata\\local\\pip\\cache\\wheels\\b5\\48\\52\\e8ac7a547a6343fce8e441f4db4a9052c7a8547fd91f413363\n",
      "Successfully built decision-tree-id3\n",
      "Installing collected packages: nose, decision-tree-id3\n",
      "Successfully installed decision-tree-id3-0.1.2 nose-1.3.7\n",
      "Note: you may need to restart the kernel to use updated packages.\n"
     ]
    }
   ],
   "source": [
    "pip install decision-tree-id3"
   ]
  },
  {
   "cell_type": "code",
   "execution_count": 1,
   "metadata": {},
   "outputs": [
    {
     "name": "stdout",
     "output_type": "stream",
     "text": [
      "Collecting decision-tree\n",
      "  Downloading decision_tree-0.04.tar.gz (10.0 kB)\n",
      "  Preparing metadata (setup.py): started\n",
      "  Preparing metadata (setup.py): finished with status 'done'\n",
      "Requirement already satisfied: numpy in c:\\users\\utilisateur2\\anaconda3\\envs\\devsalah_3classification\\lib\\site-packages (from decision-tree) (1.26.3)\n",
      "Collecting sklearn (from decision-tree)\n",
      "  Using cached sklearn-0.0.post12.tar.gz (2.6 kB)\n",
      "  Preparing metadata (setup.py): started\n",
      "  Preparing metadata (setup.py): finished with status 'error'\n",
      "Note: you may need to restart the kernel to use updated packages.\n"
     ]
    },
    {
     "name": "stderr",
     "output_type": "stream",
     "text": [
      "  error: subprocess-exited-with-error\n",
      "  \n",
      "  × python setup.py egg_info did not run successfully.\n",
      "  │ exit code: 1\n",
      "  ╰─> [15 lines of output]\n",
      "      The 'sklearn' PyPI package is deprecated, use 'scikit-learn'\n",
      "      rather than 'sklearn' for pip commands.\n",
      "      \n",
      "      Here is how to fix this error in the main use cases:\n",
      "      - use 'pip install scikit-learn' rather than 'pip install sklearn'\n",
      "      - replace 'sklearn' by 'scikit-learn' in your pip requirements files\n",
      "        (requirements.txt, setup.py, setup.cfg, Pipfile, etc ...)\n",
      "      - if the 'sklearn' package is used by one of your dependencies,\n",
      "        it would be great if you take some time to track which package uses\n",
      "        'sklearn' instead of 'scikit-learn' and report it to their issue tracker\n",
      "      - as a last resort, set the environment variable\n",
      "        SKLEARN_ALLOW_DEPRECATED_SKLEARN_PACKAGE_INSTALL=True to avoid this error\n",
      "      \n",
      "      More information is available at\n",
      "      https://github.com/scikit-learn/sklearn-pypi-package\n",
      "      [end of output]\n",
      "  \n",
      "  note: This error originates from a subprocess, and is likely not a problem with pip.\n",
      "error: metadata-generation-failed\n",
      "\n",
      "× Encountered error while generating package metadata.\n",
      "╰─> See above for output.\n",
      "\n",
      "note: This is an issue with the package mentioned above, not pip.\n",
      "hint: See above for details.\n"
     ]
    }
   ],
   "source": [
    "pip install decision-tree"
   ]
  },
  {
   "cell_type": "code",
   "execution_count": 1,
   "metadata": {},
   "outputs": [
    {
     "ename": "SyntaxError",
     "evalue": "invalid syntax (361909822.py, line 1)",
     "output_type": "error",
     "traceback": [
      "\u001b[1;36m  Cell \u001b[1;32mIn[1], line 1\u001b[1;36m\u001b[0m\n\u001b[1;33m    import decision-tree\u001b[0m\n\u001b[1;37m                   ^\u001b[0m\n\u001b[1;31mSyntaxError\u001b[0m\u001b[1;31m:\u001b[0m invalid syntax\n"
     ]
    }
   ],
   "source": [
    "import decision-tree"
   ]
  },
  {
   "cell_type": "code",
   "execution_count": 9,
   "metadata": {},
   "outputs": [
    {
     "ename": "ImportError",
     "evalue": "cannot import name 'six' from 'sklearn.externals' (c:\\Users\\Utilisateur2\\anaconda3\\envs\\devSalah_3Classification\\lib\\site-packages\\sklearn\\externals\\__init__.py)",
     "output_type": "error",
     "traceback": [
      "\u001b[1;31m---------------------------------------------------------------------------\u001b[0m",
      "\u001b[1;31mImportError\u001b[0m                               Traceback (most recent call last)",
      "Cell \u001b[1;32mIn[9], line 2\u001b[0m\n\u001b[0;32m      1\u001b[0m \u001b[38;5;66;03m#import id3\u001b[39;00m\n\u001b[1;32m----> 2\u001b[0m \u001b[38;5;28;01mfrom\u001b[39;00m \u001b[38;5;21;01mid3\u001b[39;00m \u001b[38;5;28;01mimport\u001b[39;00m Id3Estimator\n\u001b[0;32m      3\u001b[0m \u001b[38;5;66;03m# créer un estimateur\u001b[39;00m\n\u001b[0;32m      4\u001b[0m estimator \u001b[38;5;241m=\u001b[39m Id3Estimator()\n",
      "File \u001b[1;32mc:\\Users\\Utilisateur2\\anaconda3\\envs\\devSalah_3Classification\\lib\\site-packages\\id3\\__init__.py:3\u001b[0m\n\u001b[0;32m      1\u001b[0m \u001b[38;5;28;01mfrom\u001b[39;00m \u001b[38;5;21;01m.\u001b[39;00m\u001b[38;5;21;01mid3\u001b[39;00m \u001b[38;5;28;01mimport\u001b[39;00m Id3Estimator\n\u001b[0;32m      2\u001b[0m \u001b[38;5;28;01mfrom\u001b[39;00m \u001b[38;5;21;01m.\u001b[39;00m \u001b[38;5;28;01mimport\u001b[39;00m id3\n\u001b[1;32m----> 3\u001b[0m \u001b[38;5;28;01mfrom\u001b[39;00m \u001b[38;5;21;01m.\u001b[39;00m\u001b[38;5;21;01mexport\u001b[39;00m \u001b[38;5;28;01mimport\u001b[39;00m export_graphviz\n\u001b[0;32m      4\u001b[0m \u001b[38;5;28;01mfrom\u001b[39;00m \u001b[38;5;21;01m.\u001b[39;00m\u001b[38;5;21;01mexport\u001b[39;00m \u001b[38;5;28;01mimport\u001b[39;00m export_text\n\u001b[0;32m      6\u001b[0m __all__ \u001b[38;5;241m=\u001b[39m [\u001b[38;5;124m'\u001b[39m\u001b[38;5;124mId3Estimator\u001b[39m\u001b[38;5;124m'\u001b[39m, \u001b[38;5;124m'\u001b[39m\u001b[38;5;124mexport_graphviz\u001b[39m\u001b[38;5;124m'\u001b[39m, \u001b[38;5;124m'\u001b[39m\u001b[38;5;124mexport_text\u001b[39m\u001b[38;5;124m'\u001b[39m]\n",
      "File \u001b[1;32mc:\\Users\\Utilisateur2\\anaconda3\\envs\\devSalah_3Classification\\lib\\site-packages\\id3\\export.py:1\u001b[0m\n\u001b[1;32m----> 1\u001b[0m \u001b[38;5;28;01mfrom\u001b[39;00m \u001b[38;5;21;01msklearn\u001b[39;00m\u001b[38;5;21;01m.\u001b[39;00m\u001b[38;5;21;01mexternals\u001b[39;00m \u001b[38;5;28;01mimport\u001b[39;00m six\n\u001b[0;32m      2\u001b[0m \u001b[38;5;28;01mfrom\u001b[39;00m \u001b[38;5;21;01m.\u001b[39;00m\u001b[38;5;21;01msplitter\u001b[39;00m \u001b[38;5;28;01mimport\u001b[39;00m SplitRecord, CalcRecord\n\u001b[0;32m      3\u001b[0m \u001b[38;5;28;01mimport\u001b[39;00m \u001b[38;5;21;01mnumpy\u001b[39;00m \u001b[38;5;28;01mas\u001b[39;00m \u001b[38;5;21;01mnp\u001b[39;00m\n",
      "\u001b[1;31mImportError\u001b[0m: cannot import name 'six' from 'sklearn.externals' (c:\\Users\\Utilisateur2\\anaconda3\\envs\\devSalah_3Classification\\lib\\site-packages\\sklearn\\externals\\__init__.py)"
     ]
    }
   ],
   "source": [
    "#import id3\n",
    "from id3 import Id3Estimator\n",
    "# créer un estimateur\n",
    "estimator = Id3Estimator()\n",
    "# entrainer l'estimateur\n",
    "estimator.fit(X, y)"
   ]
  },
  {
   "cell_type": "code",
   "execution_count": null,
   "metadata": {},
   "outputs": [],
   "source": []
  },
  {
   "cell_type": "code",
   "execution_count": null,
   "metadata": {},
   "outputs": [],
   "source": [
    "import pandas as pd\n",
    "from sklearn.tree import DecisionTreeClassifier, export_text, plot_tree\n",
    "from sklearn.model_selection import train_test_split\n",
    "from sklearn.metrics import accuracy_score\n",
    "import graphviz\n",
    "import matplotlib\n",
    "\n",
    "# Lire le fichier CSV\n",
    "data = pd.read_csv(\"jouer0.csv\")\n",
    "\n",
    "# Séparer les données en entrées et sorties\n",
    "X = data.iloc[:, :-1]  # Les caractéristiques\n",
    "y = data.iloc[:, -1]   # Les résultats (classes)\n",
    "\n",
    "# Créer un classificateur DecisionTree\n",
    "classifier = DecisionTreeClassifier()\n",
    "\n",
    "# Entraîner le modèle\n",
    "classifier.fit(X, y)\n",
    "\n",
    "# Faire des prédictions sur les données de test (exemple avec la même data pour l'instant)\n",
    "predictions = classifier.predict(X)\n",
    "\n",
    "# Mesurer la précision du modèle\n",
    "accuracy = accuracy_score(y, predictions)\n",
    "print(f'Accuracy: {accuracy}')\n",
    "\n",
    "# Visualiser l'arbre (utilisation de plot_tree)\n",
    "plot_tree(classifier, feature_names=X.columns, class_names=True, filled=True)\n",
    "plt.show()\n"
   ]
  }
 ],
 "metadata": {
  "kernelspec": {
   "display_name": "devSalah_3Classification",
   "language": "python",
   "name": "python3"
  },
  "language_info": {
   "codemirror_mode": {
    "name": "ipython",
    "version": 3
   },
   "file_extension": ".py",
   "mimetype": "text/x-python",
   "name": "python",
   "nbconvert_exporter": "python",
   "pygments_lexer": "ipython3",
   "version": "3.10.13"
  }
 },
 "nbformat": 4,
 "nbformat_minor": 2
}
